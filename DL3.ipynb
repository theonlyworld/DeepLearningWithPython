{
  "nbformat": 4,
  "nbformat_minor": 0,
  "metadata": {
    "colab": {
      "provenance": [],
      "authorship_tag": "ABX9TyMo0zSaCLWqCJ9k+QiTsL0Z",
      "include_colab_link": true
    },
    "kernelspec": {
      "name": "python3",
      "display_name": "Python 3"
    },
    "language_info": {
      "name": "python"
    }
  },
  "cells": [
    {
      "cell_type": "markdown",
      "metadata": {
        "id": "view-in-github",
        "colab_type": "text"
      },
      "source": [
        "<a href=\"https://colab.research.google.com/github/theonlyworld/DeepLearningWithPython/blob/main/DL3.ipynb\" target=\"_parent\"><img src=\"https://colab.research.google.com/assets/colab-badge.svg\" alt=\"Open In Colab\"/></a>"
      ]
    },
    {
      "cell_type": "markdown",
      "source": [
        "# 分类与回归\n",
        "\n",
        "本章主要学习掌握两分类，多分类以及标量回归的相关方法，即三个任务。"
      ],
      "metadata": {
        "id": "aycaE8SJmMkU"
      }
    },
    {
      "cell_type": "markdown",
      "source": [
        "## 电影评价分类：两分类"
      ],
      "metadata": {
        "id": "mWJS2z_Ym_kS"
      }
    },
    {
      "cell_type": "code",
      "source": [
        "from tensorflow.keras.datasets import imdb\n",
        "(train_data, train_labels), (test_data, test_labels) = imdb.load_data(num_words=10000)"
      ],
      "metadata": {
        "id": "sBa0gnQznIDq"
      },
      "execution_count": null,
      "outputs": []
    },
    {
      "cell_type": "code",
      "source": [],
      "metadata": {
        "id": "TpB1dauqna5q"
      },
      "execution_count": null,
      "outputs": []
    }
  ]
}