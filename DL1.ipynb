{
  "nbformat": 4,
  "nbformat_minor": 0,
  "metadata": {
    "colab": {
      "provenance": [],
      "authorship_tag": "ABX9TyMo06NGemO4Y6Q3xFpOf6Qu",
      "include_colab_link": true
    },
    "kernelspec": {
      "name": "python3",
      "display_name": "Python 3"
    },
    "language_info": {
      "name": "python"
    }
  },
  "cells": [
    {
      "cell_type": "markdown",
      "metadata": {
        "id": "view-in-github",
        "colab_type": "text"
      },
      "source": [
        "<a href=\"https://colab.research.google.com/github/theonlyworld/DeepLearningWithPython/blob/main/DL1.ipynb\" target=\"_parent\"><img src=\"https://colab.research.google.com/assets/colab-badge.svg\" alt=\"Open In Colab\"/></a>"
      ]
    },
    {
      "cell_type": "code",
      "execution_count": null,
      "metadata": {
        "colab": {
          "base_uri": "https://localhost:8080/"
        },
        "id": "njkdpFeiAHqX",
        "outputId": "3d8395c4-bbc3-490a-c497-12187b4c252b"
      },
      "outputs": [
        {
          "output_type": "stream",
          "name": "stdout",
          "text": [
            "Downloading data from https://storage.googleapis.com/tensorflow/tf-keras-datasets/mnist.npz\n",
            "11490434/11490434 [==============================] - 0s 0us/step\n"
          ]
        }
      ],
      "source": [
        "from tensorflow.keras.datasets import mnist\n",
        "(train_images, train_labels),(test_images, test_labels) = mnist.load_data()"
      ]
    },
    {
      "cell_type": "code",
      "source": [
        "from tensorflow import keras\n",
        "from tensorflow.keras import layers\n",
        "model = keras.Sequential([\n",
        "    layers.Dense(512, activation=\"relu\"),\n",
        "    layers.Dense(10, activation=\"softmax\")\n",
        "])"
      ],
      "metadata": {
        "id": "SholEy_XIVBz"
      },
      "execution_count": null,
      "outputs": []
    },
    {
      "cell_type": "code",
      "source": [
        "model.compile(optimizer=\"rmsprop\",\n",
        "              loss=\"sparse_categorical_crossentropy\",\n",
        "              metrics=[\"accuracy\"])"
      ],
      "metadata": {
        "id": "aplfTPt7LOqr"
      },
      "execution_count": null,
      "outputs": []
    },
    {
      "cell_type": "code",
      "source": [
        "train_images = train_images.reshape((60000, 28*28))\n",
        "train_images = train_images.astype(\"float32\")/255\n",
        "test_images = test_images.reshape((10000, 28*28))\n",
        "test_images = test_images.astype(\"float32\")/255"
      ],
      "metadata": {
        "id": "g8EY4hxkPEpM"
      },
      "execution_count": null,
      "outputs": []
    },
    {
      "cell_type": "code",
      "source": [
        "model.fit(train_images, train_labels, epochs=5, batch_size=128)"
      ],
      "metadata": {
        "colab": {
          "base_uri": "https://localhost:8080/"
        },
        "id": "5TszlPEnVTb0",
        "outputId": "c7514081-f7cc-496d-eb93-71d94bb3eea7"
      },
      "execution_count": null,
      "outputs": [
        {
          "output_type": "stream",
          "name": "stdout",
          "text": [
            "Epoch 1/5\n",
            "469/469 [==============================] - 3s 6ms/step - loss: 0.2645 - accuracy: 0.9243\n",
            "Epoch 2/5\n",
            "469/469 [==============================] - 3s 7ms/step - loss: 0.1087 - accuracy: 0.9687\n",
            "Epoch 3/5\n",
            "469/469 [==============================] - 3s 6ms/step - loss: 0.0699 - accuracy: 0.9792\n",
            "Epoch 4/5\n",
            "469/469 [==============================] - 3s 6ms/step - loss: 0.0505 - accuracy: 0.9851\n",
            "Epoch 5/5\n",
            "469/469 [==============================] - 3s 6ms/step - loss: 0.0383 - accuracy: 0.9883\n"
          ]
        },
        {
          "output_type": "execute_result",
          "data": {
            "text/plain": [
              "<keras.callbacks.History at 0x7feda47aed60>"
            ]
          },
          "metadata": {},
          "execution_count": 5
        }
      ]
    },
    {
      "cell_type": "code",
      "source": [
        "test_digits = test_images[0:10]\n",
        "predictions = model.predict(test_digits)\n",
        "predictions[0]"
      ],
      "metadata": {
        "colab": {
          "base_uri": "https://localhost:8080/"
        },
        "id": "MiO4gy5mXJo1",
        "outputId": "7ef78f85-c713-496a-ab75-9732b9799faf"
      },
      "execution_count": null,
      "outputs": [
        {
          "output_type": "stream",
          "name": "stdout",
          "text": [
            "1/1 [==============================] - 0s 88ms/step\n"
          ]
        },
        {
          "output_type": "execute_result",
          "data": {
            "text/plain": [
              "array([2.2069452e-08, 1.2422749e-08, 8.3504783e-06, 3.4554418e-05,\n",
              "       7.4765763e-11, 3.1149807e-07, 2.8338073e-11, 9.9994928e-01,\n",
              "       2.3177486e-07, 7.1183958e-06], dtype=float32)"
            ]
          },
          "metadata": {},
          "execution_count": 6
        }
      ]
    },
    {
      "cell_type": "code",
      "source": [
        "test_loss, test_acc = model.evaluate(test_images, test_labels)\n",
        "print(f\"test_acc: {test_acc}\")"
      ],
      "metadata": {
        "colab": {
          "base_uri": "https://localhost:8080/"
        },
        "id": "2Ym14J6NYDIS",
        "outputId": "cc6570bf-0cb0-4d4f-f814-183daf9b2c5a"
      },
      "execution_count": null,
      "outputs": [
        {
          "output_type": "stream",
          "name": "stdout",
          "text": [
            "313/313 [==============================] - 1s 1ms/step - loss: 0.0699 - accuracy: 0.9781\n",
            "test_acc: 0.9781000018119812\n"
          ]
        }
      ]
    },
    {
      "cell_type": "code",
      "source": [
        "from tensorflow.keras.datasets import mnist\n",
        "(train_images, train_labels),(test_images, test_labels) = mnist.load_data()\n",
        "\n",
        "import matplotlib.pyplot as plt\n",
        "digit = train_images[4]\n",
        "plt.imshow(digit, cmap=plt.cm.binary)\n",
        "plt.show()"
      ],
      "metadata": {
        "colab": {
          "base_uri": "https://localhost:8080/",
          "height": 308
        },
        "id": "cW8cwdcw5kz6",
        "outputId": "350cb604-4542-4254-ac19-a6e7fadffaf0"
      },
      "execution_count": 18,
      "outputs": [
        {
          "output_type": "display_data",
          "data": {
            "text/plain": [
              "<Figure size 640x480 with 1 Axes>"
            ],
            "image/png": "[encoded data removed]"
          },
          "metadata": {}
        }
      ]
    },
    {
      "cell_type": "code",
      "source": [
        "train_images[4]"
      ],
      "metadata": {
        "id": "SuAG_zDk6CdO"
      },
      "execution_count": null,
      "outputs": []
    },
    {
      "cell_type": "code",
      "source": [],
      "metadata": {
        "id": "BPWYv1k39sFG"
      },
      "execution_count": null,
      "outputs": []
    },
    {
      "cell_type": "markdown",
      "source": [
        "## 使用NumPy进行张量计算\n",
        "通过`train_images[i]`语句我们可以在第一个轴中选出一个特定的数字。这种在张量中挑选特定元素的行为也称作张量切片（tensor slicing）。\n",
        "通过NumPy库我们可以进行切片操作，如挑选第10到100个（不包含第100个）元素，其形状是（90,28,28）\n"
      ],
      "metadata": {
        "id": "-yyukyj79zBz"
      }
    },
    {
      "cell_type": "code",
      "source": [
        "my_slice = train_images[10:100]\n",
        "my_slice.shape"
      ],
      "metadata": {
        "colab": {
          "base_uri": "https://localhost:8080/"
        },
        "id": "LPU7oWAZ-fks",
        "outputId": "3dfd795d-e046-4b33-9b7c-dc48680c0e40"
      },
      "execution_count": null,
      "outputs": [
        {
          "output_type": "execute_result",
          "data": {
            "text/plain": [
              "(90, 28, 28)"
            ]
          },
          "metadata": {},
          "execution_count": 16
        }
      ]
    },
    {
      "cell_type": "markdown",
      "source": [
        "下面的语句是等效的，它尤其在每一个轴中都明确了一个开始索引和结束索引。注意：号与选择该轴所有元素是相同的意思"
      ],
      "metadata": {
        "id": "zQS_N2EP_toU"
      }
    },
    {
      "cell_type": "code",
      "source": [
        "my_slice = train_images[10:100, :, :]   #与前例等同\n",
        "my_slice.shape\n",
        "my_slice = train_images[10:100, 0:28, 0:28] #同样与前例等同\n",
        "my_slice.shape"
      ],
      "metadata": {
        "colab": {
          "base_uri": "https://localhost:8080/"
        },
        "id": "A9NuBqoNAhvk",
        "outputId": "a4442d0c-11ed-47e1-cb5a-b5be72bf3129"
      },
      "execution_count": null,
      "outputs": [
        {
          "output_type": "execute_result",
          "data": {
            "text/plain": [
              "(90, 28, 28)"
            ]
          },
          "metadata": {},
          "execution_count": 17
        }
      ]
    },
    {
      "cell_type": "markdown",
      "source": [
        "你也可以在任一个轴中在两个索引中进行切片。例如，想在所有的图像中选择右下角14x14大小的区域，你可以这么做"
      ],
      "metadata": {
        "id": "HfxA9uFWkr3V"
      }
    },
    {
      "cell_type": "code",
      "source": [
        "my_slice = train_images[:, 14:, 14:]"
      ],
      "metadata": {
        "id": "1TortSfxwLjF"
      },
      "execution_count": null,
      "outputs": []
    },
    {
      "cell_type": "markdown",
      "source": [
        "使用负索引也是支持的。原理与Python中的lists结构相似。如，要想裁切出图像中间部分14x14像素大小的区域，你可以这样做"
      ],
      "metadata": {
        "id": "pkWLVzqSwUrW"
      }
    },
    {
      "cell_type": "code",
      "source": [
        "my_slice = train_images[:, 7:-7, 7:-7]"
      ],
      "metadata": {
        "id": "Wley71RixjZd"
      },
      "execution_count": null,
      "outputs": []
    },
    {
      "cell_type": "markdown",
      "source": [
        "## 数据批次的概念\n",
        "在深度学习中所有数据张量中的第一个轴就是样本轴（samples axis），通常也称作样本维度（samples dimension）。以MNIST为例，样本就是数据的图像。\n",
        "此外，深度学习不会一次性对整个数据集进行处理，而是将数据分解为小的批次。下面这个例子就是我们MNIST数据的一个批次，大小为128。"
      ],
      "metadata": {
        "id": "fHSCgvDixqLJ"
      }
    },
    {
      "cell_type": "code",
      "source": [
        "batch = train_images[:128]\n",
        "batch = train_images[128:256]   #下一个批次\n",
        "n = 3   #第n个批次\n",
        "batch = train_images[128*n:128*(n+1)]"
      ],
      "metadata": {
        "id": "q4Ew2nY87Ant"
      },
      "execution_count": null,
      "outputs": []
    },
    {
      "cell_type": "markdown",
      "source": [
        "考虑到批次张量这一概念，第一轴也称作批次轴（batch axis）或批次维度（batch dimension）。"
      ],
      "metadata": {
        "id": "QiyxVTuF-P4y"
      }
    },
    {
      "cell_type": "markdown",
      "source": [
        "## 真实世界的例子\n",
        "所有数据都可以分为以下几类：\n",
        "- 向量 rank-2张量（样本，特征），每个样本都是一个数值属性的向量（特征）\n",
        "- 时间序列或者序列数据 rank-3张量（样本，时间步长，特征），每一个样本都是一个特征向量的序列（时间步长的长度）\n",
        "- 图像 rank-4张量（样本，高度，宽度，通道），每个样本都是2d的像素格，每个像素都代表一个通道数的向量\n",
        "- 视频 rank-5张量（样本，帧，高度，宽度，通道），每个样本都是图像的一个序列（帧的长度）"
      ],
      "metadata": {
        "id": "jyo7GYDH_bn6"
      }
    },
    {
      "cell_type": "markdown",
      "source": [
        "## 向量数据\n",
        "该数据集中，每个数据点可以编码成一个向量，那么一个数据的批次就会被编码为一个rank-2大小的张量（即一批向量），第一轴即样本轴，第二轴即特征轴。\n",
        "\n",
        "## 时间序列数据或序列数据\n",
        "当你的数据需要考虑时间因素时（或者顺序），那么通过加入时间轴将数据保存为rank-3形式就是必要的。每个样本可以编码为一个向量的序列（rank-2张量），那么一个批次就是一个rank-3张量。习惯上，时间轴通常是第二轴。\n",
        "\n",
        "## 图像"
      ],
      "metadata": {
        "id": "Z9zp_r4pFgY3"
      }
    },
    {
      "cell_type": "markdown",
      "source": [],
      "metadata": {
        "id": "hLOnMNAVG4en"
      }
    }
  ]
}